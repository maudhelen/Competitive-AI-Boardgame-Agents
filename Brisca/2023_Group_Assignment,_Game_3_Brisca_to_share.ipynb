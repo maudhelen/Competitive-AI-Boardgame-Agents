{
  "nbformat": 4,
  "nbformat_minor": 0,
  "metadata": {
    "colab": {
      "provenance": []
    },
    "kernelspec": {
      "name": "python3",
      "display_name": "Python 3"
    },
    "language_info": {
      "name": "python"
    }
  },
  "cells": [
    {
      "cell_type": "code",
      "source": [
        "#Update your token\n",
        "STUDENT_TOKEN = 'EUGENIOMARCHIORI'"
      ],
      "metadata": {
        "id": "19HNfC32a8jO"
      },
      "execution_count": 104,
      "outputs": []
    },
    {
      "cell_type": "markdown",
      "source": [
        "Server communication game and game_loop."
      ],
      "metadata": {
        "id": "WDMxKi-mSUvp"
      }
    },
    {
      "cell_type": "code",
      "source": [
        "## ignore this code, just used for submission\n",
        "import requests\n",
        "import pprint\n",
        "import json\n",
        "import random\n",
        "import time\n",
        "from copy import copy, deepcopy\n",
        "\n",
        "class Game:\n",
        "  def __init__(self, state, status, player):\n",
        "    self.state = state\n",
        "    self.status = status\n",
        "    self.player = player\n",
        "\n",
        "  def is_waiting(self):\n",
        "    return self.status == 'waiting'\n",
        "\n",
        "  def is_end(self):\n",
        "    return self.status == 'complete'\n",
        "\n",
        "  def get_board(self):\n",
        "    print(self.state)\n",
        "    return json.loads(self.state)\n",
        "\n",
        "  def actions(self):\n",
        "    return []\n",
        "\n",
        "  def print_game(self):\n",
        "    print(self.state)\n",
        "\n",
        "def new_game(game_type, multi_player = False):\n",
        "  for _ in range(10):\n",
        "    r = requests.get('https://emarchiori.eu.pythonanywhere.com/new-game?TOKEN=%s&game-type=%s&multi-player=%s' % (STUDENT_TOKEN, game_type, 'True' if multi_player else 'False'))\n",
        "    if r.status_code == 200:\n",
        "      return r.json()['game-id']\n",
        "    print(r.content)\n",
        "\n",
        "def join_game(game_type, game_id):\n",
        "  for _ in range(10):\n",
        "    r = requests.get('https://emarchiori.eu.pythonanywhere.com/join-game?TOKEN=%s&game-type=%s&game-id=%s' % (STUDENT_TOKEN, game_type, game_id))\n",
        "    if r.status_code == 200:\n",
        "      return r.json()['player']\n",
        "    print(r.content)\n",
        "\n",
        "def game_state(game_type, game_id, GameClass):\n",
        "  for _ in range(10):\n",
        "    r = requests.get('https://emarchiori.eu.pythonanywhere.com/game-state?TOKEN=%s&game-type=%s&game-id=%s' % (STUDENT_TOKEN, game_type, game_id))\n",
        "    if r.status_code == 200:\n",
        "      return GameClass(r.json()['state'], r.json()['status'], r.json()['player'])\n",
        "    print(r.content)\n",
        "\n",
        "def update_game(game_type, game_id, player, move):\n",
        "  for _ in range(10):\n",
        "    r = requests.get('https://emarchiori.eu.pythonanywhere.com/update-game?TOKEN=%s&game-type=%s&game-id=%s&player=%s&move=%s' % (STUDENT_TOKEN, game_type, game_id, player, move))\n",
        "    if r.status_code == 200:\n",
        "      return r.content\n",
        "    print(r.content)\n",
        "\n",
        "def game_loop(solver, GameClass, game_type, multi_player = False, id = None):\n",
        "  while id == None:\n",
        "    print('\\033[92mCreating new game...\\033[0m')\n",
        "    id = new_game(game_type, multi_player)\n",
        "\n",
        "  print('\\033[92mJoining game with id: %s\\033[0m' % id)\n",
        "  player = join_game(game_type, id)\n",
        "\n",
        "  print('\\033[92mPlaying as %s\\033[0m' % player)\n",
        "\n",
        "  game = game_state(game_type, id, GameClass)\n",
        "  print('\\033[91mWaiting for the other player to join...\\033[0m')\n",
        "  while game.is_waiting():\n",
        "    time.sleep(10)\n",
        "    game = game_state(game_type, id, GameClass)\n",
        "\n",
        "  while True:\n",
        "    game = game_state(game_type, id, GameClass)\n",
        "    game.print_game()\n",
        "    if game.is_end():\n",
        "      if game.player == '-':\n",
        "        print('\\033[94mdraw\\033[0m')\n",
        "      else:\n",
        "        print('\\033[92mwinner\\033[0m' if game.player == player else '\\033[91mloser\\033[0m')\n",
        "      return\n",
        "    if game.player == player:\n",
        "      print('Making next move...')\n",
        "      move = solver(game)\n",
        "      update_result = update_game(game_type, id, player, json.dumps(move))\n",
        "      print(update_result)\n",
        "    else:\n",
        "      time.sleep(2)"
      ],
      "metadata": {
        "id": "ypKQTGbIa2bV"
      },
      "execution_count": 105,
      "outputs": []
    },
    {
      "cell_type": "markdown",
      "source": [
        "Random solver"
      ],
      "metadata": {
        "id": "Ho3WUfJUUrgN"
      }
    },
    {
      "cell_type": "code",
      "source": [
        "def random_solver(game):\n",
        "  actions = game.actions()\n",
        "  return actions[0]"
      ],
      "metadata": {
        "id": "zFCpdoKyyS3a"
      },
      "execution_count": 106,
      "outputs": []
    },
    {
      "cell_type": "markdown",
      "source": [
        "Game specific code"
      ],
      "metadata": {
        "id": "I6kdKWQJUwCV"
      }
    },
    {
      "cell_type": "code",
      "execution_count": 107,
      "metadata": {
        "id": "r_zr2XPCyKyl"
      },
      "outputs": [],
      "source": [
        "from functools import reduce\n",
        "from copy import copy, deepcopy\n",
        "import json\n",
        "\n",
        "\n",
        "class Brisca(Game):\n",
        "  def __init__(self, state, status, player):\n",
        "    Game.__init__(self, state, status, player)\n",
        "\n",
        "  def actions(self):\n",
        "    return [i for i in range(len(self.state['hand']))]\n",
        "\n",
        "  def card_str(self, card):\n",
        "    return '+'.join(map(str, card))\n",
        "\n",
        "  def print_game(self):\n",
        "    print('Hand: ' + ' '.join(map(self.card_str, self.state['hand'])) + '  Table: ' + ' '.join(map(self.card_str, self.state['table'])) + '  Trump: ' + self.card_str(self.state['trump']))\n",
        "    print('Score X: ' + str(self.state['score'][0]) + '  Score O:' + str(self.state['score'][1]))\n",
        "\n",
        "  def other_player(self):\n",
        "    if self.player == 'X': return 'O'\n",
        "    if self.player == 'O': return 'X'"
      ]
    },
    {
      "cell_type": "code",
      "source": [
        "game_loop(random_solver, Brisca, 'brisca', multi_player=False, id=None)"
      ],
      "metadata": {
        "colab": {
          "base_uri": "https://localhost:8080/"
        },
        "id": "lVDCr1X4SRtl",
        "outputId": "e93ecad5-d9ef-46e8-b4fb-97d25b9e390d"
      },
      "execution_count": 108,
      "outputs": [
        {
          "output_type": "stream",
          "name": "stdout",
          "text": [
            "\u001b[92mCreating new game...\u001b[0m\n",
            "\u001b[92mJoining game with id: 129\u001b[0m\n",
            "\u001b[92mPlaying as O\u001b[0m\n",
            "\u001b[91mWaiting for the other player to join...\u001b[0m\n",
            "Hand: 4+D 10+H 10+C  Table: 3+S  Trump: 6+S\n",
            "Score X: 0  Score O:0\n",
            "Making next move...\n",
            "b'Valid move'\n",
            "Hand: 10+H 10+C 2+S  Table: 3+H  Trump: 6+S\n",
            "Score X: 10  Score O:0\n",
            "Making next move...\n",
            "b'Valid move'\n",
            "Hand: 10+C 2+S 7+S  Table: 11+S  Trump: 6+S\n",
            "Score X: 22  Score O:0\n",
            "Making next move...\n",
            "b'Valid move'\n",
            "Hand: 2+S 7+S 5+C  Table: 12+C  Trump: 6+S\n",
            "Score X: 27  Score O:0\n",
            "Making next move...\n",
            "b'Valid move'\n",
            "Hand: 7+S 5+C 6+C  Table:   Trump: 6+S\n",
            "Score X: 27  Score O:4\n",
            "Making next move...\n",
            "b'Valid move'\n",
            "Hand: 5+C 6+C 5+H  Table:   Trump: 6+S\n",
            "Score X: 27  Score O:4\n",
            "Making next move...\n",
            "b'Valid move'\n",
            "Hand: 6+C 5+H 8+H  Table:   Trump: 6+S\n",
            "Score X: 27  Score O:4\n",
            "Making next move...\n",
            "b'Valid move'\n",
            "Hand: 5+H 8+H 6+H  Table:   Trump: 6+S\n",
            "Score X: 27  Score O:4\n",
            "Making next move...\n",
            "b'Valid move'\n",
            "Hand: 8+H 6+H 4+S  Table:   Trump: 6+S\n",
            "Score X: 27  Score O:7\n",
            "Making next move...\n",
            "b'Valid move'\n",
            "Hand: 6+H 4+S 9+S  Table:   Trump: 6+S\n",
            "Score X: 27  Score O:9\n",
            "Making next move...\n",
            "b'Valid move'\n",
            "Hand: 4+S 9+S 8+S  Table:   Trump: 6+S\n",
            "Score X: 27  Score O:9\n",
            "Making next move...\n",
            "b'Valid move'\n",
            "Hand: 9+S 8+S 1+H  Table:   Trump: 6+S\n",
            "Score X: 27  Score O:20\n",
            "Making next move...\n",
            "b'Valid move'\n",
            "Hand: 8+S 1+H 11+C  Table:   Trump: 6+S\n",
            "Score X: 27  Score O:30\n",
            "Making next move...\n",
            "b'Valid move'\n",
            "Hand: 1+H 11+C 4+C  Table:   Trump: 6+S\n",
            "Score X: 27  Score O:34\n",
            "Making next move...\n",
            "b'Valid move'\n",
            "Hand: 11+C 4+C 2+D  Table:   Trump: 6+S\n",
            "Score X: 27  Score O:45\n",
            "Making next move...\n",
            "b'Valid move'\n",
            "Hand: 4+C 2+D 6+D  Table:   Trump: 6+S\n",
            "Score X: 27  Score O:48\n",
            "Making next move...\n",
            "b'Valid move'\n",
            "Hand: 2+D 6+D 7+H  Table: 7+D  Trump: 6+S\n",
            "Score X: 27  Score O:48\n",
            "Making next move...\n",
            "b'Valid move'\n",
            "Hand: 6+D 7+H 10+S  Table: 12+S  Trump: 6+S\n",
            "Score X: 27  Score O:48\n",
            "Making next move...\n",
            "b'Valid move'\n",
            "Hand: 7+H 10+S 1+C  Table: 1+S  Trump: 6+S\n",
            "Score X: 31  Score O:48\n",
            "Making next move...\n",
            "b'Valid move'\n",
            "Hand: 10+S 1+C 5+S  Table: 11+H  Trump: 6+S\n",
            "Score X: 42  Score O:48\n",
            "Making next move...\n",
            "b'Valid move'\n",
            "Hand: 1+C 5+S 2+H  Table:   Trump: 6+S\n",
            "Score X: 42  Score O:53\n",
            "Making next move...\n",
            "b'Valid move'\n",
            "Hand: 5+S 2+H 8+C  Table:   Trump: 6+S\n",
            "Score X: 42  Score O:74\n",
            "Making next move...\n",
            "b'Valid move'\n",
            "Hand: 2+H 8+C  Table: 12+H  Trump: 6+S\n",
            "Score X: 42  Score O:74\n",
            "Making next move...\n",
            "b'Valid move'\n",
            "Hand: 8+C  Table: 9+C  Trump: 6+S\n",
            "Score X: 46  Score O:74\n",
            "Making next move...\n",
            "b'Valid move'\n",
            "Hand:   Table:   Trump: 6+S\n",
            "Score X: 46  Score O:74\n",
            "\u001b[92mwinner\u001b[0m\n"
          ]
        }
      ]
    }
  ]
}