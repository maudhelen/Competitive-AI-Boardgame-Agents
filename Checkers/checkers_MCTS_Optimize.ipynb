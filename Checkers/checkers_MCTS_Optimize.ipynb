{
 "cells": [
  {
   "cell_type": "code",
   "execution_count": 210,
   "metadata": {},
   "outputs": [],
   "source": [
    "## ignore this code, just used for submission\n",
    "\n",
    "#Update your token\n",
    "STUDENT_TOKEN = 'EUGENIOMARCHIORI'\n",
    "\n",
    "import requests\n",
    "import pprint\n",
    "import json\n",
    "import random\n",
    "import time\n",
    "from copy import copy, deepcopy\n",
    "\n",
    "class Game:\n",
    "  def __init__(self, state, status, player):\n",
    "    self.state = state\n",
    "    self.status = status\n",
    "    self.player = player\n",
    "\n",
    "  def is_waiting(self):\n",
    "    return self.status == 'waiting'\n",
    "\n",
    "  def is_end(self):\n",
    "    return self.status == 'complete'\n",
    "\n",
    "  def get_board(self):\n",
    "    return json.loads(self.state)\n",
    "\n",
    "  def actions(self):\n",
    "    return []\n",
    "\n",
    "  def print_game(self):\n",
    "    print(self.state)\n",
    "\n",
    "def new_game(game_type, multi_player = False):\n",
    "  for _ in range(10):\n",
    "    r = requests.get('https://emarchiori.eu.pythonanywhere.com/new-game?TOKEN=%s&game-type=%s&multi-player=%s' % (STUDENT_TOKEN, game_type, 'True' if multi_player else 'False'))\n",
    "    if r.status_code == 200:\n",
    "      return r.json()['game-id']\n",
    "    print(r.content)\n",
    "\n",
    "def join_game(game_type, game_id):\n",
    "  for _ in range(10):\n",
    "    r = requests.get('https://emarchiori.eu.pythonanywhere.com/join-game?TOKEN=%s&game-type=%s&game-id=%s' % (STUDENT_TOKEN, game_type, game_id))\n",
    "    if r.status_code == 200:\n",
    "      return r.json()['player']\n",
    "    print(r.content)\n",
    "\n",
    "def game_state(game_type, game_id, GameClass):\n",
    "  for _ in range(10):\n",
    "    r = requests.get('https://emarchiori.eu.pythonanywhere.com/game-state?TOKEN=%s&game-type=%s&game-id=%s' % (STUDENT_TOKEN, game_type, game_id))\n",
    "    if r.status_code == 200:\n",
    "      return GameClass(r.json()['state'], r.json()['status'], r.json()['player'])\n",
    "    print(r.content)\n",
    "\n",
    "def update_game(game_type, game_id, player, move):\n",
    "  for _ in range(10):\n",
    "    r = requests.get('https://emarchiori.eu.pythonanywhere.com/update-game?TOKEN=%s&game-type=%s&game-id=%s&player=%s&move=%s' % (STUDENT_TOKEN, game_type, game_id, player, move))\n",
    "    if r.status_code == 200:\n",
    "      return r.content\n",
    "    print(r.content)\n",
    "\n",
    "def game_loop(solver, GameClass, game_type, multi_player = False, id = None):\n",
    "    while True:\n",
    "        if id is None:\n",
    "            print('\\033[92mCreating new game...\\033[0m')\n",
    "            id = new_game(game_type, multi_player)\n",
    "\n",
    "        print('\\033[92mJoining game with id: %s\\033[0m' % id)\n",
    "        player = join_game(game_type, id)\n",
    "\n",
    "        if player != 'X':\n",
    "            #print('\\033[91mNot player X, restarting...\\033[0m')\n",
    "            id = None  # Reset the game id to create a new game\n",
    "            continue   # Restart the game creation process\n",
    "\n",
    "        print('\\033[92mPlaying as %s\\033[0m' % player)\n",
    "\n",
    "        game = game_state(game_type, id, GameClass)\n",
    "        print('\\033[91mWaiting for the other player to join...\\033[0m')\n",
    "        while game.is_waiting():\n",
    "            time.sleep(10)\n",
    "            game = game_state(game_type, id, GameClass)\n",
    "\n",
    "        while True:\n",
    "            game = game_state(game_type, id, GameClass)\n",
    "            if game is None:\n",
    "                print(\"Failed to fetch the game state.\")\n",
    "                break  # Exit the loop if the game state couldn't be fetched\n",
    "\n",
    "            game.print_game()\n",
    "            if game.is_end():\n",
    "                if game.player == '-':\n",
    "                    print('\\033[94mdraw\\033[0m')\n",
    "                else:\n",
    "                    print('\\033[92mwinner\\033[0m' if game.player == player else '\\033[91mloser\\033[0m')\n",
    "                return\n",
    "            if game.player == player:\n",
    "                print('Making next move...')\n",
    "                move = solver(game)\n",
    "                update_result = update_game(game_type, id, player, json.dumps(move))\n",
    "                print(update_result)\n",
    "            else:\n",
    "                time.sleep(2)\n"
   ]
  },
  {
   "cell_type": "markdown",
   "metadata": {},
   "source": [
    "## Monte Carlo Tree Search (MCTS) for Checkers\n",
    "\n",
    "This implementation includes an advanced Monte Carlo Tree Search (MCTS) algorithm tailored for the game of Checkers. It encompasses several key components: MCTS with UCB1 for node selection, dominance-based early stopping, tile count heuristic for game evaluation, and the Old Faithful opening move strategy.\n",
    "\n",
    "### Key Components of the Implementation\n",
    "\n",
    "1. **MCTSNode Class**: Represents a node in the MCTS tree. Each node contains the game state, parent node, possible moves from the current state, and statistics for the number of wins and visits, crucial for the MCTS algorithm.\n",
    "\n",
    "2. **UCB1 for Node Selection**: Implements the Upper Confidence Bound 1 (UCB1) algorithm for selecting a child node during the Selection phase of MCTS. UCB1 balances exploration of less visited nodes and exploitation of nodes known to be promising.\n",
    "\n",
    "3. **Old Faithful Opening Move**: A predefined optimal move for the initial state of the game. If the game is in its initial configuration, the algorithm will choose this move, speeding up the decision process.\n",
    "\n",
    "4. **Dominance-Based Early Stopping**: During the Simulation phase, if a move significantly improves the player's position (defined as a 2-piece advantage change), the simulation terminates early. This approach focuses on quickly capitalizing on advantageous situations.\n",
    "\n",
    "5. **Tile Count Heuristic**: A heuristic evaluation based on the difference in the number of pieces between players. It's used to estimate the game state's favorability for the player.\n",
    "\n",
    "6. **Monte Carlo Tree Search Solver (mcts_solver)**: The main function that orchestrates the MCTS process. It performs iterations of the MCTS algorithm, each consisting of four phases: Selection, Expansion, Simulation, and Backpropagation. The function returns the move associated with the most visited node after all iterations, indicating the best-found move.\n",
    "\n",
    "### Function Descriptions\n",
    "\n",
    "- `mcts_solver`: The primary function to execute the MCTS algorithm, handling the logic for each phase of MCTS.\n",
    "- `simulate_game`: Simulates a game from the current state to its conclusion, using random moves, dominance checking, and the heuristic evaluation.\n",
    "- `is_dominant_position`: Checks if the current player's position is dominant enough to warrant early termination of the simulation.\n",
    "- `piece_count_heuristic`: Provides a heuristic score based on the difference in the number of pieces between the two players.\n",
    "- `old_faithful_move`: Determines if the Old Faithful move is applicable for the current game state.\n",
    "- `is_initial_board_state`: Checks if the game is in its initial board configuration.\n",
    "\n",
    "This comprehensive MCTS implementation is designed to effectively balance between exploring new strategies and exploiting known advantageous paths, making it well-suited for complex strategic games like Checkers.\n"
   ]
  },
  {
   "cell_type": "code",
   "execution_count": 211,
   "metadata": {},
   "outputs": [],
   "source": [
    "import math\n",
    "import random\n",
    "from copy import deepcopy\n",
    "\n",
    "class MCTSNode:\n",
    "    def __init__(self, state, parent=None, move=None):\n",
    "        # Initialize a node in the MCTS tree with the given state.\n",
    "        # 'parent' is the parent node, 'move' is the move that led to this state.\n",
    "        self.state = state\n",
    "        self.parent = parent\n",
    "        self.move = move\n",
    "        self.children = []\n",
    "        self.wins = 0\n",
    "        self.visits = 0\n",
    "        self.untried_actions = self.untried_moves()\n",
    "\n",
    "    def untried_moves(self):\n",
    "         # Return the list of possible actions (moves) from this state.\n",
    "        return self.state.actions()\n",
    "\n",
    "    def is_terminal_node(self):\n",
    "        # Check if the node represents a terminal state (end of the game).\n",
    "        return self.state.is_end()\n",
    "\n",
    "    def select_child(self):\n",
    "        \"\"\" \n",
    "        Select a child node with the highest UCB1 value. \n",
    "        UCB1 (Upper Confidence Bound 1) balances exploration and exploitation.\n",
    "        \"\"\"\n",
    "        ucb1_values = [(child.wins / child.visits) + 2 * (2 * math.log(self.visits) / child.visits) ** 0.5 for child in self.children]\n",
    "        return self.children[ucb1_values.index(max(ucb1_values))]\n",
    "\n",
    "    def add_child(self, move, state):\n",
    "       \n",
    "        \"\"\"\n",
    "        Add a new child node for this move. \n",
    "        'move' leads to the given 'state'. The new node is appended to children.\n",
    "        \"\"\"        \n",
    "        child_node = MCTSNode(state=state, parent=self, move=move)\n",
    "        self.untried_actions.remove(move)\n",
    "        self.children.append(child_node)\n",
    "        return child_node\n",
    "\n",
    "    def update(self, result):\n",
    "        \"\"\"\n",
    "        Update this node - one additional visit (to keep track on num simulations) and result additional wins. \n",
    "        \"\"\"\n",
    "        self.visits += 1\n",
    "        self.wins += result\n",
    "\n",
    "def is_initial_board_state(game):\n",
    "    initial_board_state = [\n",
    "        ['_', 'x', '_', 'x', '_', 'x', '_', 'x'],\n",
    "        ['x', '_', 'x', '_', 'x', '_', 'x', '_'],\n",
    "        ['_', 'x', '_', 'x', '_', 'x', '_', 'x'],\n",
    "        ['_', '_', '_', '_', '_', '_', '_', '_'],\n",
    "        ['_', '_', '_', '_', '_', '_', '_', '_'],\n",
    "        ['o', '_', 'o', '_', 'o', '_', 'o', '_'],\n",
    "        ['_', 'o', '_', 'o', '_', 'o', '_', 'o'],\n",
    "        ['o', '_', 'o', '_', 'o', '_', 'o', '_']\n",
    "    ]\n",
    "    return game.get_board() == initial_board_state\n",
    "\n",
    "def old_faithful_move(player, game):\n",
    "    \"\"\"\n",
    "    Return the \"Old Faithful\" move for the player, if applicable.\n",
    "    This is a predefined optimal move for the initial state.\n",
    "    \"\"\"\n",
    "    if player == 'X' and game.player == 'X':\n",
    "        return (2, 5, 3, 4)  # \"Old Faithful\" move for 'X' player\n",
    "    elif player == 'O' and game.player == 'O':\n",
    "        return (5, 2, 4, 3)  # \"Old Faithful\" move for 'O' player\n",
    "    return None\n",
    "\n",
    "def is_dominant_position(game, player, previous_advantage):\n",
    "    board = game.get_board()\n",
    "    player_count = sum(row.count(player) for row in board)\n",
    "    opponent_count = sum(row.count(game.other_player()) for row in board)\n",
    "    current_advantage = player_count - opponent_count\n",
    "\n",
    "    # Calculate the change in advantage\n",
    "    change_in_advantage = current_advantage - previous_advantage\n",
    "\n",
    "    # Check if the change in advantage is at least 2 pieces\n",
    "    return change_in_advantage >= 2\n",
    "\n",
    "def piece_count_heuristic(game):\n",
    "    # Heuristic based on the difference in the number of pieces between players.\n",
    "    board = game.get_board()\n",
    "    player_count = sum(row.count(game.player) for row in board)\n",
    "    opponent_count = sum(row.count(game.other_player()) for row in board)\n",
    "    return player_count - opponent_count\n",
    "\n",
    "def simulate_game(state):\n",
    "    \"\"\"\n",
    "    Simulate a game from the given state to its conclusion.\n",
    "    Uses randomness for moves and checks for early termination conditions.\n",
    "    \"\"\"\n",
    "    previous_advantage = sum(row.count(state.player) for row in state.get_board()) - sum(row.count(state.other_player()) for row in state.get_board())\n",
    "    while not state.is_end():\n",
    "        if is_dominant_position(state, state.player, previous_advantage):\n",
    "            return 1.0  # Early termination with a win\n",
    "        possible_actions = state.actions() # get all possible actions from the state since we don't have a dominant position\n",
    "        if possible_actions:\n",
    "            state.play(random.choice(possible_actions)) # play a random action since we were unable to terminate early\n",
    "        else:\n",
    "            break\n",
    "    # last check using the heuristic (piece count) to determine the winner\n",
    "    if not state.is_end():\n",
    "        # Evaluate using the heuristic\n",
    "        heuristic_score = piece_count_heuristic(state)\n",
    "        return max(min(heuristic_score / 10, 1), -1)  # Normalize the heuristic score (between -1 and 1) and choose the highest score action\n",
    "    else: # Game ended\n",
    "        return state.result(state.player) \n",
    "\n",
    "def mcts_solver(game, iterations=1450):\n",
    "    # Check if we are in the initial board state and if so, play the \"Old Faithful\" move\n",
    "    if is_initial_board_state(game):\n",
    "        of_move = old_faithful_move(game.player, game)\n",
    "        if of_move:\n",
    "            return of_move\n",
    "    # Initialize the root node of the MCTS tree\n",
    "    root = MCTSNode(state=game)\n",
    "\n",
    "    for _ in range(iterations):\n",
    "        node = root # Start at root\n",
    "        state = deepcopy(game) # Copy the game for simulation\n",
    "\n",
    "        # Selection\n",
    "        #  traverses the tree from the root to a leaf node by selecting the child with the highest Upper Confidence Bound (UCB1) value\n",
    "        while node.untried_actions == [] and node.children != []: \n",
    "            node = node.select_child() # select the child with the highest UCB1 value\n",
    "            state.play(node.move) # play the move\n",
    "\n",
    "        # Expansion\n",
    "        # If the selected node has untried actions, one of these actions is chosen randomly, and a new child node corresponding to this action is added to the tree. \n",
    "        if node.untried_actions != []:\n",
    "            move = random.choice(node.untried_actions) \n",
    "            state.play(move)\n",
    "            node = node.add_child(move, state)\n",
    "\n",
    "        # Simulation\n",
    "        game_result = simulate_game(state)  # Use the simulate_game function for early termination\n",
    "\n",
    "        # Backpropagation\n",
    "        # backpropagates from the expanded node up to the root. Each node in this path is updated with the result of the simulation (win or loss)\n",
    "        # If the simulation reached a game end, game_result is used; otherwise, a neutral value is used to indicate that the game ended prematurely.\n",
    "        while node is not None:\n",
    "            node.update(game_result if state.is_end() else 0.5)\n",
    "            node = node.parent\n",
    "\n",
    "    # Return the move that was most visited\n",
    "    # considered the best move found becuase being the most visited means that it has the highest probability of winning\n",
    "    return sorted(root.children, key=lambda c: c.visits)[-1].move\n"
   ]
  },
  {
   "cell_type": "markdown",
   "metadata": {},
   "source": [
    "Game specific code"
   ]
  },
  {
   "cell_type": "code",
   "execution_count": 212,
   "metadata": {},
   "outputs": [],
   "source": [
    "from functools import reduce\n",
    "from copy import copy, deepcopy\n",
    "import json\n",
    "import random\n",
    "import matplotlib.pyplot as plt\n",
    "\n",
    "\n",
    "class Checkers(Game):\n",
    "  def __init__(self, state, status, player):\n",
    "    super().__init__(state, status, player)\n",
    "\n",
    "  def in_board(self, pos):\n",
    "    return pos >= 0 and pos < 8\n",
    "\n",
    "  def actions(self):\n",
    "    board = self.get_board()\n",
    "    player = self.player\n",
    "    other_player = self.other_player()\n",
    "\n",
    "    actions = []\n",
    "    direction = 1 if player == 'X' else -1\n",
    "\n",
    "    # Check for jumps\n",
    "    for row in range(8):\n",
    "        for col in range(8):\n",
    "            if board[row][col].lower() == player.lower():\n",
    "                # Check for possible jumps\n",
    "                for d_row, d_col in [(2, 2), (2, -2), (-2, 2), (-2, -2)]:\n",
    "                    new_row, new_col = row + d_row, col + d_col\n",
    "                    if self.in_board(new_row) and self.in_board(new_col):\n",
    "                        mid_row, mid_col = row + d_row // 2, col + d_col // 2\n",
    "                        if board[mid_row][mid_col].lower() == other_player.lower() and board[new_row][new_col] == '_':\n",
    "                            actions.append((row, col, new_row, new_col))\n",
    "\n",
    "    if not actions:\n",
    "        # Check for regular moves\n",
    "        for row in range(8):\n",
    "            for col in range(8):\n",
    "                if board[row][col].lower() == player.lower():\n",
    "                    # Check for possible moves\n",
    "                    for d_row, d_col in [(1, 1), (1, -1), (-1, 1), (-1, -1)]:\n",
    "                        new_row, new_col = row + d_row, col + d_col\n",
    "                        if self.in_board(new_row) and self.in_board(new_col) and board[new_row][new_col] == '_':\n",
    "                            actions.append((row, col, new_row, new_col))\n",
    "\n",
    "    return actions\n",
    "\n",
    "\n",
    "  def play(self, move):\n",
    "    \"\"\"Updates the game state with the given move\"\"\"\n",
    "    board = self.get_board()\n",
    "    row, col, new_row, new_col = move\n",
    "    board[new_row][new_col] = board[row][col]\n",
    "    board[row][col] = '_'\n",
    "\n",
    "    # Remove captured piece in case of jump\n",
    "    if abs(new_row - row) == 2:\n",
    "        mid_row, mid_col = (row + new_row) // 2, (col + new_col) // 2\n",
    "        board[mid_row][mid_col] = '_'\n",
    "\n",
    "    self.state = json.dumps(board)\n",
    "    self.player = self.other_player()\n",
    "\n",
    "  def result(self, player):\n",
    "    \"\"\"Returns the game result from the perspective of the given player\"\"\"\n",
    "    if self.is_end():\n",
    "        if self.player == '-':\n",
    "            return 0.5  # draw\n",
    "        elif self.player == player:\n",
    "            return 1  # win\n",
    "        else:\n",
    "            return 0  # loss\n",
    "    return 0.5  # default value for non-terminal state or continue simulation\n",
    "\n",
    "  def print_game(self):\n",
    "    data = self.get_board()\n",
    "\n",
    "    light_green = '#90EE90'\n",
    "    dark_green = '#228B22'\n",
    "    light_red = '#FF6347'\n",
    "    dark_red = '#8B0000'\n",
    "\n",
    "    light_colors = {\n",
    "        'x': light_green,\n",
    "        'o': light_red,\n",
    "    }\n",
    "\n",
    "    dark_colors = {\n",
    "        'X': dark_green,\n",
    "        'O': dark_red,\n",
    "    }\n",
    "\n",
    "    fig, ax = plt.subplots()\n",
    "\n",
    "    for i, row in enumerate(data):\n",
    "        for j, cell in enumerate(row):\n",
    "            # Calculate the position of the rectangle\n",
    "            x = j\n",
    "            y = i\n",
    "\n",
    "            # Choose color based on the checkerboard pattern\n",
    "            if (i + j) % 2 == 0:\n",
    "                color = 'white'\n",
    "            else:\n",
    "                color = 'black'\n",
    "\n",
    "            # Add the rectangle for the checkerboard pattern\n",
    "            ax.add_patch(plt.Rectangle((x, y), 1, 1, color=color))\n",
    "\n",
    "            # Choose color for the piece\n",
    "            if cell in light_colors:\n",
    "                piece_color = light_colors[cell]\n",
    "            elif cell in dark_colors:\n",
    "                piece_color = dark_colors[cell]\n",
    "            else:\n",
    "                continue\n",
    "\n",
    "            # Add the smaller rectangle for the piece\n",
    "            piece_size = 0.6  # Adjust the size of the piece\n",
    "            ax.add_patch(plt.Rectangle((x + (1 - piece_size) / 2, y + (1 - piece_size) / 2), piece_size, piece_size, color=piece_color))\n",
    "\n",
    "    ax.set_xticks([])\n",
    "    ax.set_yticks([])\n",
    "    ax.set_xlim(-0.5, len(data)+0.5)\n",
    "    ax.set_ylim(-0.5, len(data[0])+0.5)\n",
    "\n",
    "    plt.show()\n",
    "\n",
    "  def other_player(self):\n",
    "    if self.player == 'X': return 'O'\n",
    "    if self.player == 'O': return 'X'\n",
    "\n",
    "\n",
    "  "
   ]
  },
  {
   "cell_type": "code",
   "execution_count": 213,
   "metadata": {},
   "outputs": [
    {
     "name": "stdout",
     "output_type": "stream",
     "text": [
      "\u001b[92mCreating new game...\u001b[0m\n",
      "\u001b[92mJoining game with id: 12170\u001b[0m\n",
      "\u001b[92mCreating new game...\u001b[0m\n",
      "\u001b[92mJoining game with id: 12171\u001b[0m\n",
      "\u001b[92mCreating new game...\u001b[0m\n",
      "\u001b[92mJoining game with id: 12172\u001b[0m\n",
      "\u001b[92mPlaying as X\u001b[0m\n",
      "\u001b[91mWaiting for the other player to join...\u001b[0m\n"
     ]
    },
    {
     "data": {
      "image/png": "[encoded data removed]",
      "text/plain": [
       "<Figure size 640x480 with 1 Axes>"
      ]
     },
     "metadata": {},
     "output_type": "display_data"
    },
    {
     "name": "stdout",
     "output_type": "stream",
     "text": [
      "Making next move...\n",
      "b'Valid move'\n"
     ]
    },
    {
     "data": {
      "image/png": "[encoded data removed]",
      "text/plain": [
       "<Figure size 640x480 with 1 Axes>"
      ]
     },
     "metadata": {},
     "output_type": "display_data"
    },
    {
     "name": "stdout",
     "output_type": "stream",
     "text": [
      "Making next move...\n",
      "b'Valid move'\n"
     ]
    },
    {
     "data": {
      "image/png": "[encoded data removed]",
      "text/plain": [
       "<Figure size 640x480 with 1 Axes>"
      ]
     },
     "metadata": {},
     "output_type": "display_data"
    },
    {
     "name": "stdout",
     "output_type": "stream",
     "text": [
      "Making next move...\n",
      "b'Valid move'\n"
     ]
    },
    {
     "data": {
      "image/png": "[encoded data removed]",
      "text/plain": [
       "<Figure size 640x480 with 1 Axes>"
      ]
     },
     "metadata": {},
     "output_type": "display_data"
    },
    {
     "name": "stdout",
     "output_type": "stream",
     "text": [
      "Making next move...\n",
      "b'Valid move'\n"
     ]
    },
    {
     "data": {
      "image/png": "[encoded data removed]",
      "text/plain": [
       "<Figure size 640x480 with 1 Axes>"
      ]
     },
     "metadata": {},
     "output_type": "display_data"
    },
    {
     "name": "stdout",
     "output_type": "stream",
     "text": [
      "Making next move...\n",
      "b'Valid move'\n"
     ]
    },
    {
     "data": {
      "image/png": "[encoded data removed]",
      "text/plain": [
       "<Figure size 640x480 with 1 Axes>"
      ]
     },
     "metadata": {},
     "output_type": "display_data"
    },
    {
     "name": "stdout",
     "output_type": "stream",
     "text": [
      "Making next move...\n",
      "b'Valid move'\n"
     ]
    },
    {
     "data": {
      "image/png": "[encoded data removed]",
      "text/plain": [
       "<Figure size 640x480 with 1 Axes>"
      ]
     },
     "metadata": {},
     "output_type": "display_data"
    },
    {
     "name": "stdout",
     "output_type": "stream",
     "text": [
      "Making next move...\n",
      "b'Valid move'\n"
     ]
    },
    {
     "data": {
      "image/png": "[encoded data removed]",
      "text/plain": [
       "<Figure size 640x480 with 1 Axes>"
      ]
     },
     "metadata": {},
     "output_type": "display_data"
    },
    {
     "name": "stdout",
     "output_type": "stream",
     "text": [
      "Making next move...\n",
      "b'Valid move'\n"
     ]
    },
    {
     "data": {
      "image/png": "[encoded data removed]",
      "text/plain": [
       "<Figure size 640x480 with 1 Axes>"
      ]
     },
     "metadata": {},
     "output_type": "display_data"
    },
    {
     "name": "stdout",
     "output_type": "stream",
     "text": [
      "Making next move...\n",
      "b'Valid move'\n"
     ]
    },
    {
     "data": {
      "image/png": "[encoded data removed]",
      "text/plain": [
       "<Figure size 640x480 with 1 Axes>"
      ]
     },
     "metadata": {},
     "output_type": "display_data"
    },
    {
     "name": "stdout",
     "output_type": "stream",
     "text": [
      "Making next move...\n",
      "b'Valid move'\n"
     ]
    },
    {
     "data": {
      "image/png": "[encoded data removed]",
      "text/plain": [
       "<Figure size 640x480 with 1 Axes>"
      ]
     },
     "metadata": {},
     "output_type": "display_data"
    },
    {
     "name": "stdout",
     "output_type": "stream",
     "text": [
      "Making next move...\n",
      "b'Valid move'\n"
     ]
    },
    {
     "data": {
      "image/png": "[encoded data removed]",
      "text/plain": [
       "<Figure size 640x480 with 1 Axes>"
      ]
     },
     "metadata": {},
     "output_type": "display_data"
    },
    {
     "name": "stdout",
     "output_type": "stream",
     "text": [
      "Making next move...\n",
      "b'Valid move'\n"
     ]
    },
    {
     "data": {
      "image/png": "[encoded data removed]",
      "text/plain": [
       "<Figure size 640x480 with 1 Axes>"
      ]
     },
     "metadata": {},
     "output_type": "display_data"
    },
    {
     "name": "stdout",
     "output_type": "stream",
     "text": [
      "Making next move...\n",
      "b'Valid move'\n"
     ]
    },
    {
     "data": {
      "image/png": "[encoded data removed]",
      "text/plain": [
       "<Figure size 640x480 with 1 Axes>"
      ]
     },
     "metadata": {},
     "output_type": "display_data"
    },
    {
     "name": "stdout",
     "output_type": "stream",
     "text": [
      "Making next move...\n",
      "b'Valid move'\n"
     ]
    },
    {
     "data": {
      "image/png": "[encoded data removed]",
      "text/plain": [
       "<Figure size 640x480 with 1 Axes>"
      ]
     },
     "metadata": {},
     "output_type": "display_data"
    },
    {
     "name": "stdout",
     "output_type": "stream",
     "text": [
      "Making next move...\n",
      "b'Valid move'\n"
     ]
    },
    {
     "data": {
      "image/png": "[encoded data removed]",
      "text/plain": [
       "<Figure size 640x480 with 1 Axes>"
      ]
     },
     "metadata": {},
     "output_type": "display_data"
    },
    {
     "name": "stdout",
     "output_type": "stream",
     "text": [
      "Making next move...\n",
      "b'Valid move'\n"
     ]
    },
    {
     "data": {
      "image/png": "[encoded data removed]",
      "text/plain": [
       "<Figure size 640x480 with 1 Axes>"
      ]
     },
     "metadata": {},
     "output_type": "display_data"
    },
    {
     "name": "stdout",
     "output_type": "stream",
     "text": [
      "Making next move...\n",
      "b'Valid move'\n"
     ]
    },
    {
     "data": {
      "image/png": "[encoded data removed]",
      "text/plain": [
       "<Figure size 640x480 with 1 Axes>"
      ]
     },
     "metadata": {},
     "output_type": "display_data"
    },
    {
     "name": "stdout",
     "output_type": "stream",
     "text": [
      "Making next move...\n",
      "b'Valid move'\n"
     ]
    },
    {
     "data": {
      "image/png": "[encoded data removed]",
      "text/plain": [
       "<Figure size 640x480 with 1 Axes>"
      ]
     },
     "metadata": {},
     "output_type": "display_data"
    },
    {
     "name": "stdout",
     "output_type": "stream",
     "text": [
      "Making next move...\n",
      "b'Valid move'\n"
     ]
    },
    {
     "data": {
      "image/png": "[encoded data removed]",
      "text/plain": [
       "<Figure size 640x480 with 1 Axes>"
      ]
     },
     "metadata": {},
     "output_type": "display_data"
    },
    {
     "name": "stdout",
     "output_type": "stream",
     "text": [
      "Making next move...\n",
      "b'Valid move'\n"
     ]
    },
    {
     "data": {
      "image/png": "[encoded data removed]",
      "text/plain": [
       "<Figure size 640x480 with 1 Axes>"
      ]
     },
     "metadata": {},
     "output_type": "display_data"
    },
    {
     "name": "stdout",
     "output_type": "stream",
     "text": [
      "Making next move...\n",
      "b'Valid move'\n"
     ]
    },
    {
     "data": {
      "image/png": "[encoded data removed]",
      "text/plain": [
       "<Figure size 640x480 with 1 Axes>"
      ]
     },
     "metadata": {},
     "output_type": "display_data"
    },
    {
     "name": "stdout",
     "output_type": "stream",
     "text": [
      "Making next move...\n",
      "b'Valid move'\n"
     ]
    },
    {
     "data": {
      "image/png": "[encoded data removed]",
      "text/plain": [
       "<Figure size 640x480 with 1 Axes>"
      ]
     },
     "metadata": {},
     "output_type": "display_data"
    },
    {
     "name": "stdout",
     "output_type": "stream",
     "text": [
      "Making next move...\n",
      "b'Valid move'\n"
     ]
    },
    {
     "data": {
      "image/png": "[encoded data removed]",
      "text/plain": [
       "<Figure size 640x480 with 1 Axes>"
      ]
     },
     "metadata": {},
     "output_type": "display_data"
    },
    {
     "name": "stdout",
     "output_type": "stream",
     "text": [
      "Making next move...\n",
      "b'Valid move'\n"
     ]
    },
    {
     "data": {
      "image/png": "[encoded data removed]",
      "text/plain": [
       "<Figure size 640x480 with 1 Axes>"
      ]
     },
     "metadata": {},
     "output_type": "display_data"
    },
    {
     "name": "stdout",
     "output_type": "stream",
     "text": [
      "Making next move...\n",
      "b'Valid move'\n"
     ]
    },
    {
     "data": {
      "image/png": "[encoded data removed]",
      "text/plain": [
       "<Figure size 640x480 with 1 Axes>"
      ]
     },
     "metadata": {},
     "output_type": "display_data"
    },
    {
     "name": "stdout",
     "output_type": "stream",
     "text": [
      "Making next move...\n",
      "b'Valid move'\n"
     ]
    },
    {
     "data": {
      "image/png": "[encoded data removed]",
      "text/plain": [
       "<Figure size 640x480 with 1 Axes>"
      ]
     },
     "metadata": {},
     "output_type": "display_data"
    },
    {
     "name": "stdout",
     "output_type": "stream",
     "text": [
      "Making next move...\n",
      "b'Valid move'\n"
     ]
    },
    {
     "data": {
      "image/png": "[encoded data removed]",
      "text/plain": [
       "<Figure size 640x480 with 1 Axes>"
      ]
     },
     "metadata": {},
     "output_type": "display_data"
    },
    {
     "name": "stdout",
     "output_type": "stream",
     "text": [
      "Making next move...\n",
      "b'Valid move'\n"
     ]
    },
    {
     "data": {
      "image/png": "[encoded data removed]",
      "text/plain": [
       "<Figure size 640x480 with 1 Axes>"
      ]
     },
     "metadata": {},
     "output_type": "display_data"
    },
    {
     "name": "stdout",
     "output_type": "stream",
     "text": [
      "Making next move...\n",
      "b'Valid move'\n"
     ]
    },
    {
     "data": {
      "image/png": "[encoded data removed]",
      "text/plain": [
       "<Figure size 640x480 with 1 Axes>"
      ]
     },
     "metadata": {},
     "output_type": "display_data"
    },
    {
     "name": "stdout",
     "output_type": "stream",
     "text": [
      "Making next move...\n",
      "b'Valid move'\n"
     ]
    },
    {
     "data": {
      "image/png": "[encoded data removed]",
      "text/plain": [
       "<Figure size 640x480 with 1 Axes>"
      ]
     },
     "metadata": {},
     "output_type": "display_data"
    },
    {
     "name": "stdout",
     "output_type": "stream",
     "text": [
      "Making next move...\n",
      "b'Valid move'\n"
     ]
    },
    {
     "data": {
      "image/png": "[encoded data removed]",
      "text/plain": [
       "<Figure size 640x480 with 1 Axes>"
      ]
     },
     "metadata": {},
     "output_type": "display_data"
    },
    {
     "name": "stdout",
     "output_type": "stream",
     "text": [
      "Making next move...\n",
      "b'Valid move'\n"
     ]
    },
    {
     "data": {
      "image/png": "[encoded data removed]",
      "text/plain": [
       "<Figure size 640x480 with 1 Axes>"
      ]
     },
     "metadata": {},
     "output_type": "display_data"
    },
    {
     "name": "stdout",
     "output_type": "stream",
     "text": [
      "\u001b[92mwinner\u001b[0m\n"
     ]
    }
   ],
   "source": [
    "game_loop(mcts_solver, Checkers, 'checkers', multi_player=False, id=None)\n"
   ]
  },
  {
   "cell_type": "markdown",
   "metadata": {},
   "source": [
    "The server allows for invalid moves proof:\n",
    "Making next move...\n",
    "b'Valid move'\n",
    "['_', 'x', '_', '_', '_', '_', '_', 'x']\n",
    "['_', '_', '_', '_', '_', '_', '_', '_']\n",
    "['_', 'x', '_', '_', '_', '_', '_', 'x']\n",
    "['_', '_', 'o', '_', '_', '_', '_', '_']\n",
    "['_', '_', '_', '_', '_', 'x', '_', '_']\n",
    "['_', '_', '_', '_', '_', '_', '_', '_']\n",
    "['_', '_', '_', '_', '_', '_', '_', 'o']\n",
    "['_', '_', '_', '_', '_', '_', 'o', '_']\n",
    "\n",
    "o moves\n",
    "\n",
    "['_', 'x', '_', '_', '_', '_', '_', 'x']\n",
    "['o', '_', '_', '_', '_', '_', '_', '_']\n",
    "['_', '_', '_', '_', '_', '_', '_', 'x']\n",
    "['_', '_', '_', '_', '_', '_', '_', '_']\n",
    "['_', '_', '_', '_', '_', 'x', '_', '_']\n",
    "['_', '_', '_', '_', '_', '_', '_', '_']\n",
    "['_', '_', '_', '_', '_', '_', '_', 'o']\n",
    "['_', '_', '_', '_', '_', '_', 'o', '_']\n",
    "Making next move...\n",
    "b'Valid move'\n",
    "['_', 'x', '_', '_', '_', '_', '_', 'x']\n",
    "['o', '_', '_', '_', '_', '_', '_', '_']\n",
    "['_', '_', '_', '_', '_', '_', '_', 'x']\n",
    "['_', '_', '_', '_', '_', '_', 'x', '_']\n",
    "['_', '_', '_', '_', '_', '_', '_', '_']\n",
    "['_', '_', '_', '_', '_', '_', '_', '_']\n",
    "['_', '_', '_', '_', '_', '_', '_', 'o']\n",
    "['_', '_', '_', '_', '_', '_', 'o', '_']\n",
    "\n"
   ]
  },
  {
   "cell_type": "markdown",
   "metadata": {},
   "source": []
  }
 ],
 "metadata": {
  "kernelspec": {
   "display_name": "Python 3",
   "language": "python",
   "name": "python3"
  },
  "language_info": {
   "codemirror_mode": {
    "name": "ipython",
    "version": 3
   },
   "file_extension": ".py",
   "mimetype": "text/x-python",
   "name": "python",
   "nbconvert_exporter": "python",
   "pygments_lexer": "ipython3",
   "version": "3.11.3"
  }
 },
 "nbformat": 4,
 "nbformat_minor": 2
}
