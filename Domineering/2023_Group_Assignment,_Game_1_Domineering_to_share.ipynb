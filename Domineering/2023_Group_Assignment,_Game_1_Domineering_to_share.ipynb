{
  "nbformat": 4,
  "nbformat_minor": 0,
  "metadata": {
    "colab": {
      "provenance": []
    },
    "kernelspec": {
      "name": "python3",
      "display_name": "Python 3"
    },
    "language_info": {
      "name": "python"
    }
  },
  "cells": [
    {
      "cell_type": "code",
      "source": [
        "#Update your token\n",
        "STUDENT_TOKEN = 'EUGENIOMARCHIORI'"
      ],
      "metadata": {
        "id": "19HNfC32a8jO"
      },
      "execution_count": 1,
      "outputs": []
    },
    {
      "cell_type": "markdown",
      "source": [
        "Server communication game and game_loop."
      ],
      "metadata": {
        "id": "WDMxKi-mSUvp"
      }
    },
    {
      "cell_type": "code",
      "source": [
        "## ignore this code, just used for submission\n",
        "import requests\n",
        "import pprint\n",
        "import json\n",
        "import random\n",
        "import time\n",
        "from copy import copy, deepcopy\n",
        "\n",
        "class Game:\n",
        "  def __init__(self, state, status, player):\n",
        "    self.state = state\n",
        "    self.status = status\n",
        "    self.player = player\n",
        "\n",
        "  def is_waiting(self):\n",
        "    return self.status == 'waiting'\n",
        "\n",
        "  def is_end(self):\n",
        "    return self.status == 'complete'\n",
        "\n",
        "  def get_board(self):\n",
        "    return json.loads(self.state)\n",
        "\n",
        "  def actions(self):\n",
        "    return []\n",
        "\n",
        "  def print_game(self):\n",
        "    print(self.state)\n",
        "\n",
        "def new_game(game_type, multi_player = False):\n",
        "  for _ in range(10):\n",
        "    r = requests.get('https://emarchiori.eu.pythonanywhere.com/new-game?TOKEN=%s&game-type=%s&multi-player=%s' % (STUDENT_TOKEN, game_type, 'True' if multi_player else 'False'))\n",
        "    if r.status_code == 200:\n",
        "      return r.json()['game-id']\n",
        "    print(r.content)\n",
        "\n",
        "def join_game(game_type, game_id):\n",
        "  for _ in range(10):\n",
        "    r = requests.get('https://emarchiori.eu.pythonanywhere.com/join-game?TOKEN=%s&game-type=%s&game-id=%s' % (STUDENT_TOKEN, game_type, game_id))\n",
        "    if r.status_code == 200:\n",
        "      return r.json()['player']\n",
        "    print(r.content)\n",
        "\n",
        "def game_state(game_type, game_id, GameClass):\n",
        "  for _ in range(10):\n",
        "    r = requests.get('https://emarchiori.eu.pythonanywhere.com/game-state?TOKEN=%s&game-type=%s&game-id=%s' % (STUDENT_TOKEN, game_type, game_id))\n",
        "    if r.status_code == 200:\n",
        "      return GameClass(r.json()['state'], r.json()['status'], r.json()['player'])\n",
        "    print(r.content)\n",
        "\n",
        "def update_game(game_type, game_id, player, move):\n",
        "  for _ in range(10):\n",
        "    r = requests.get('https://emarchiori.eu.pythonanywhere.com/update-game?TOKEN=%s&game-type=%s&game-id=%s&player=%s&move=%s' % (STUDENT_TOKEN, game_type, game_id, player, move))\n",
        "    if r.status_code == 200:\n",
        "      return r.content\n",
        "    print(r.content)\n",
        "\n",
        "def game_loop(solver, GameClass, game_type, multi_player = False, id = None):\n",
        "  while id == None:\n",
        "    print('\\033[92mCreating new game...\\033[0m')\n",
        "    id = new_game(game_type, multi_player)\n",
        "\n",
        "  print('\\033[92mJoining game with id: %s\\033[0m' % id)\n",
        "  player = join_game(game_type, id)\n",
        "\n",
        "  print('\\033[92mPlaying as %s\\033[0m' % player)\n",
        "\n",
        "  game = game_state(game_type, id, GameClass)\n",
        "  print('\\033[91mWaiting for the other player to join...\\033[0m')\n",
        "  while game.is_waiting():\n",
        "    time.sleep(10)\n",
        "    game = game_state(game_type, id, GameClass)\n",
        "\n",
        "  while True:\n",
        "    game = game_state(game_type, id, GameClass)\n",
        "    game.print_game()\n",
        "    if game.is_end():\n",
        "      if game.player == '-':\n",
        "        print('\\033[94mdraw\\033[0m')\n",
        "      else:\n",
        "        print('\\033[92mwinner\\033[0m' if game.player == player else '\\033[91mloser\\033[0m')\n",
        "      return\n",
        "    if game.player == player:\n",
        "      print('Making next move...')\n",
        "      move = solver(game)\n",
        "      update_result = update_game(game_type, id, player, json.dumps(move))\n",
        "      print(update_result)\n",
        "    else:\n",
        "      time.sleep(2)"
      ],
      "metadata": {
        "id": "ypKQTGbIa2bV"
      },
      "execution_count": 2,
      "outputs": []
    },
    {
      "cell_type": "markdown",
      "source": [
        "Random solver"
      ],
      "metadata": {
        "id": "Ho3WUfJUUrgN"
      }
    },
    {
      "cell_type": "code",
      "source": [
        "def random_solver(game):\n",
        "  actions = game.actions()\n",
        "  return actions[0]\n"
      ],
      "metadata": {
        "id": "zFCpdoKyyS3a"
      },
      "execution_count": 3,
      "outputs": []
    },
    {
      "cell_type": "markdown",
      "source": [
        "Game specific code"
      ],
      "metadata": {
        "id": "I6kdKWQJUwCV"
      }
    },
    {
      "cell_type": "code",
      "execution_count": 4,
      "metadata": {
        "id": "r_zr2XPCyKyl"
      },
      "outputs": [],
      "source": [
        "from functools import reduce\n",
        "from copy import copy, deepcopy\n",
        "import json\n",
        "import random\n",
        "\n",
        "class Domineering(Game):\n",
        "  def __init__(self, state, status, player):\n",
        "    Game.__init__(self, state, status, player)\n",
        "\n",
        "  def actions(self):\n",
        "    actions = []\n",
        "    board = self.get_board()\n",
        "    player = self.player\n",
        "\n",
        "    for row in range(len(board)):\n",
        "      for col in range(len(board[row])):\n",
        "        if board[row][col] == '.':\n",
        "          if player == 'H' and col + 1 < len(board[row]) - 1 and board[row][col + 1] == '.':\n",
        "            actions.append((row, col))\n",
        "          elif player == 'V' and row + 1 < len(board) and board[row + 1][col] == '.':\n",
        "            actions.append((row, col))\n",
        "    return actions\n",
        "\n",
        "  def print_game(self):\n",
        "    for row in self.get_board():\n",
        "      print(row)\n",
        "\n",
        "  def other_player(self):\n",
        "    if self.player == 'V': return 'H'\n",
        "    if self.player == 'H': return 'V'"
      ]
    },
    {
      "cell_type": "code",
      "source": [
        "game_loop(random_solver, Domineering, 'domineering', multi_player=False, id=None)"
      ],
      "metadata": {
        "colab": {
          "base_uri": "https://localhost:8080/"
        },
        "id": "lVDCr1X4SRtl",
        "outputId": "0aad97e1-2165-4700-d80b-b57f28460646"
      },
      "execution_count": 5,
      "outputs": [
        {
          "output_type": "stream",
          "name": "stdout",
          "text": [
            "\u001b[92mCreating new game...\u001b[0m\n",
            "b'<!DOCTYPE HTML PUBLIC \"-//W3C//DTD HTML 3.2 Final//EN\">\\n<title>500 Internal Server Error</title>\\n<h1>Internal Server Error</h1>\\n<p>The server encountered an internal error and was unable to complete your request. Either the server is overloaded or there is an error in the application.</p>\\n'\n",
            "b'<!DOCTYPE HTML PUBLIC \"-//W3C//DTD HTML 3.2 Final//EN\">\\n<title>500 Internal Server Error</title>\\n<h1>Internal Server Error</h1>\\n<p>The server encountered an internal error and was unable to complete your request. Either the server is overloaded or there is an error in the application.</p>\\n'\n",
            "\u001b[92mJoining game with id: 119\u001b[0m\n",
            "\u001b[92mPlaying as V\u001b[0m\n",
            "b'{\"Message\": \"Error getting game, please retry\"}'\n",
            "\u001b[91mWaiting for the other player to join...\u001b[0m\n",
            "['.', '.', '.', '.', '.', '.']\n",
            "['.', '.', '.', '.', '.', '.']\n",
            "['.', '.', '.', '.', '.', '.']\n",
            "['.', '.', '.', '.', '.', '.']\n",
            "['.', '.', '.', '.', '.', '.']\n",
            "['.', '.', '.', '.', '.', '.']\n",
            "Making next move...\n",
            "b'Valid move'\n",
            "['V', '.', '.', '.', '.', '.']\n",
            "['V', '.', '.', '.', '.', '.']\n",
            "['.', '.', '.', '.', '.', '.']\n",
            "['.', '.', '.', '.', '.', '.']\n",
            "['.', '.', '.', '.', '.', '.']\n",
            "['.', 'H', 'H', '.', '.', '.']\n",
            "Making next move...\n",
            "b'Valid move'\n",
            "['V', 'V', '.', '.', '.', '.']\n",
            "['V', 'V', '.', '.', '.', '.']\n",
            "['.', '.', '.', '.', '.', '.']\n",
            "['H', 'H', '.', '.', '.', '.']\n",
            "['.', '.', '.', '.', '.', '.']\n",
            "['.', 'H', 'H', '.', '.', '.']\n",
            "Making next move...\n",
            "b'Valid move'\n",
            "['V', 'V', 'V', '.', '.', '.']\n",
            "['V', 'V', 'V', '.', '.', '.']\n",
            "['.', '.', '.', '.', '.', '.']\n",
            "['H', 'H', '.', 'H', 'H', '.']\n",
            "['.', '.', '.', '.', '.', '.']\n",
            "['.', 'H', 'H', '.', '.', '.']\n",
            "Making next move...\n",
            "b'Valid move'\n",
            "['V', 'V', 'V', 'V', '.', '.']\n",
            "['V', 'V', 'V', 'V', '.', '.']\n",
            "['.', '.', '.', '.', '.', '.']\n",
            "['H', 'H', '.', 'H', 'H', '.']\n",
            "['H', 'H', '.', '.', '.', '.']\n",
            "['.', 'H', 'H', '.', '.', '.']\n",
            "Making next move...\n",
            "b'Valid move'\n",
            "['V', 'V', 'V', 'V', 'V', '.']\n",
            "['V', 'V', 'V', 'V', 'V', '.']\n",
            "['.', '.', '.', 'H', 'H', '.']\n",
            "['H', 'H', '.', 'H', 'H', '.']\n",
            "['H', 'H', '.', '.', '.', '.']\n",
            "['.', 'H', 'H', '.', '.', '.']\n",
            "Making next move...\n",
            "b'Valid move'\n",
            "['V', 'V', 'V', 'V', 'V', 'V']\n",
            "['V', 'V', 'V', 'V', 'V', 'V']\n",
            "['H', 'H', '.', 'H', 'H', '.']\n",
            "['H', 'H', '.', 'H', 'H', '.']\n",
            "['H', 'H', '.', '.', '.', '.']\n",
            "['.', 'H', 'H', '.', '.', '.']\n",
            "Making next move...\n",
            "b'Valid move'\n",
            "['V', 'V', 'V', 'V', 'V', 'V']\n",
            "['V', 'V', 'V', 'V', 'V', 'V']\n",
            "['H', 'H', 'V', 'H', 'H', '.']\n",
            "['H', 'H', 'V', 'H', 'H', '.']\n",
            "['H', 'H', 'H', 'H', '.', '.']\n",
            "['.', 'H', 'H', '.', '.', '.']\n",
            "Making next move...\n",
            "b'Valid move'\n",
            "['V', 'V', 'V', 'V', 'V', 'V']\n",
            "['V', 'V', 'V', 'V', 'V', 'V']\n",
            "['H', 'H', 'V', 'H', 'H', 'V']\n",
            "['H', 'H', 'V', 'H', 'H', 'V']\n",
            "['H', 'H', 'H', 'H', '.', '.']\n",
            "['.', 'H', 'H', 'H', 'H', '.']\n",
            "Making next move...\n",
            "b'Valid move'\n",
            "['V', 'V', 'V', 'V', 'V', 'V']\n",
            "['V', 'V', 'V', 'V', 'V', 'V']\n",
            "['H', 'H', 'V', 'H', 'H', 'V']\n",
            "['H', 'H', 'V', 'H', 'H', 'V']\n",
            "['H', 'H', 'H', 'H', '.', 'V']\n",
            "['.', 'H', 'H', 'H', 'H', 'V']\n",
            "\u001b[91mloser\u001b[0m\n"
          ]
        }
      ]
    }
  ]
}